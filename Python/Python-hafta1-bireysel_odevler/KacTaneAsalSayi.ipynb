{
 "cells": [
  {
   "cell_type": "markdown",
   "metadata": {},
   "source": [
    "# Kaç tane asal sayı?"
   ]
  },
  {
   "cell_type": "code",
   "execution_count": null,
   "metadata": {},
   "outputs": [],
   "source": [
    "N= int(input(\"Kaç tane asal sayı:  \"))\n",
    "x=2\n",
    "sayac=0\n",
    "\n",
    "\n",
    "while sayac<N:\n",
    "    i=2\n",
    "    while i*i <= x:\n",
    "        if x % i==0:\n",
    "        \n",
    "                break\n",
    "        i+=1\n",
    "    else:\n",
    "        sayac+=1\n",
    "        print(x)\n",
    "                \n",
    "    x+=1"
   ]
  }
 ],
 "metadata": {
  "kernelspec": {
   "display_name": "Python 3",
   "language": "python",
   "name": "python3"
  },
  "language_info": {
   "codemirror_mode": {
    "name": "ipython",
    "version": 3
   },
   "file_extension": ".py",
   "mimetype": "text/x-python",
   "name": "python",
   "nbconvert_exporter": "python",
   "pygments_lexer": "ipython3",
   "version": "3.6.5"
  }
 },
 "nbformat": 4,
 "nbformat_minor": 2
}

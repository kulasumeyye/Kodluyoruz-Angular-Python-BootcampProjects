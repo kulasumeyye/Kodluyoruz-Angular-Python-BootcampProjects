{
 "cells": [
  {
   "cell_type": "code",
   "execution_count": 1,
   "metadata": {},
   "outputs": [],
   "source": [
    "import random\n",
    "import string\n",
    "import pandas as pd"
   ]
  },
  {
   "cell_type": "code",
   "execution_count": 2,
   "metadata": {},
   "outputs": [],
   "source": [
    "KELIME_LISTESI_DOSYASI = \"tdk_sozcukler2.csv\"\n",
    "TÜRKÇE_ALFABE = 'abcçdefgğhıijklmnoöprsştuüvyz'\n",
    "\n",
    "def kelimeleri_yükle():\n",
    "    \"\"\"\n",
    "    Geçerli kelimelerin bir listesini döndürür. \n",
    "    Kelimeler, küçük harflerden oluşan dizelerdir.\n",
    "    cd\n",
    "    Sözcük listesinin boyutuna bağlı olarak, bu işlevin \n",
    "    tamamlanması biraz zaman alabilir.\n",
    "    \"\"\"\n",
    "    print(\"Dosyadan kelime listesi okunuyor...\")\n",
    "    # dosyanın okunması\n",
    "    dosya = pd.read_csv(\"tdk_sozcukler2.csv\")\n",
    "    # sözcüklerin küçük harfe çevrilmesi\n",
    "    dosya['SOZCUKLER'] = dosya['SOZCUKLER'].str.lower() \n",
    "    # wordlist: list of strings\n",
    "    kelime_listesi = dosya['SOZCUKLER'].tolist()\n",
    "    print(f\"{len(kelime_listesi)} kelimelik liste hazırlandı.\")\n",
    "    return kelime_listesi"
   ]
  },
  {
   "cell_type": "code",
   "execution_count": 3,
   "metadata": {},
   "outputs": [
    {
     "name": "stdout",
     "output_type": "stream",
     "text": [
      "Dosyadan kelime listesi okunuyor...\n",
      "213358 kelimelik liste hazırlandı.\n"
     ]
    }
   ],
   "source": [
    "kelime_listesi = kelimeleri_yükle()"
   ]
  },
  {
   "cell_type": "code",
   "execution_count": 4,
   "metadata": {},
   "outputs": [],
   "source": [
    "def kelime_seç(kelime_listesi):\n",
    "    \"\"\"\n",
    "    kelime_listesi (liste): kelimelerin listesi (dize)\n",
    "    \n",
    "    Kelime listesinde rastgele bir keliem döndürür.\n",
    "    \"\"\"\n",
    "    return random.choice(kelime_listesi)"
   ]
  },
  {
   "cell_type": "code",
   "execution_count": 5,
   "metadata": {},
   "outputs": [],
   "source": [
    "def kelime_tahmin_edildi_mi(gizli_kelime, tahmin_edilen_harfler):\n",
    "    '''\n",
    "    gizli_kelime: dize, kullanıcının tahmin ettiği kelime; \n",
    "        tüm harflerin küçük olduğunu varsayar\n",
    "    tahmin_edilen_harfler: şimdiye kadar tahmin edilen harflerin listesi; \n",
    "        tüm harflerin küçük olduğunu varsayar\n",
    "    döndürdüğü: boolean, gizli_kelime'nin tüm harfleri tahmin_edilen_harfler içindeyse True; \n",
    "        aksi takdirde False\n",
    "    '''\n",
    "    # KODUNUZU BURAYA YAZIN VE \"pass\" İFADESİNİ SİLİN\n",
    "    gizli_kelime=kelime_seç(kelime_listesi)\n",
    "\n",
    "    "
   ]
  },
  {
   "cell_type": "code",
   "execution_count": 6,
   "metadata": {},
   "outputs": [],
   "source": [
    "def uygun_harfleri_al(tahmin_edilen_harfler, alfabe = TÜRKÇE_ALFABE):\n",
    "    '''\n",
    "    tahmin_edilen_harfler: şimdiye kadar tahmin edilen harflerin listesi; \n",
    "        tüm harflerin küçük olduğunu varsayar\n",
    "    döndürdüğü: dize (harfler), Henüz tahmin edilmemiş harfleri temsil \n",
    "        eden harflerden oluşur.\n",
    "    '''\n",
    "    # alfabedeki harfleri alır\n",
    "    alfabe = TÜRKÇE_ALFABE\n",
    "    uygun_harfler=\"\"\n",
    "    # KODUNUZU BURAYA YAZIN VE \"pass\" İFADESİNİ SİLİN\n",
    "    for i in range(len(tahmin_edilen_harfler)):\n",
    "        alfabe = alfabe.replace(tahmin_edilen_harfler[i],'')\n",
    "    return alfabe"
   ]
  },
  {
   "cell_type": "code",
   "execution_count": 7,
   "metadata": {},
   "outputs": [],
   "source": [
    "def tahmin_edilen_kelimeyi_al(gizli_kelime, tahmin_edilen_harfler):\n",
    "    '''\n",
    "    gizli_kelime: dize, kullanıcının tahmin ettiği kelime; \n",
    "        tüm harflerin küçük olduğunu varsayar\n",
    "    tahmin_edilen_harfler: şimdiye kadar tahmin edilen harflerin listesi; \n",
    "        tüm harflerin küçük olduğunu varsayar\n",
    "    döndürdüğü: dize, harflerden oluşur, alt çizgiler (_) ve gizli_kelime içindeki hangi harflerin \n",
    "        şimdiye kadar tahmin edildiğini temsil eden boşluklardan oluşur.\n",
    "    '''\n",
    "   \n",
    "    tahmin=\"\"\n",
    "    for i in range(len(gizli_kelime)):\n",
    "        \n",
    "        for j in tahmin_edilen_harfler:\n",
    "            if i==j:\n",
    "                tahmin+=i\n",
    "            else: \n",
    "                tahmin+=\"_ \"\n",
    "        \n",
    "    return tahmin"
   ]
  },
  {
   "cell_type": "code",
   "execution_count": 8,
   "metadata": {},
   "outputs": [],
   "source": [
    "\n",
    "def ipuçlarıyla_insan_asmaca(gizli_kelime, alfabe=TÜRKÇE_ALFABE):\n",
    "    '''\n",
    "    gizli_kelime: dize, kullanıcının tahmin ettiği kelime; \n",
    "        tüm harflerin küçük olduğunu varsayar\n",
    "    \n",
    "    Etkileşimli bir İnsan Asmaca oyunu başlatır.\n",
    "    \n",
    "     * Oyunun başında kullanıcıya gizli_kelime'nin kaç harf içerdiğini \n",
    "       ve kaç tahminle başladığını bildirin.\n",
    "      \n",
    "     * Kullanıcı 6 tahminle başlamalıdır\n",
    "\n",
    "     * Her turdan önce kullanıcıya kaç tahmin yaptğını ve henüz tahmin \n",
    "       etmediği harfleri göstermelisiniz.\n",
    "    \n",
    "     * Kullanıcıdan tur başına bir tahmin yapmasını isteyin. Kullanıcının \n",
    "       bir harf yazdığından emin olmayı unutmayın!\n",
    "    \n",
    "     * Kullanıcı, tahminlerinin bilgisayarın kelimesinde görünüp görünmediğine \n",
    "       dair her tahminden hemen sonra geri bildirim almalıdır.\n",
    "\n",
    "     * Her tahminden sonra, kullanıcıya o ana kadar kısmen tahmin edilen \n",
    "       kelimeyi göstermelisiniz.\n",
    "     \n",
    "     * Tahmin, * sembolüyse, kelime listesindeki mevcut tahmin edilen kelimeyle \n",
    "       eşleşen tüm kelimeleri yazdırın.\n",
    "    \n",
    "    Problem yönergesinde detaylandırılan diğer sınırlamaları takip edin.\n",
    "    '''\n",
    "    # alfabedeki harfleri alır\n",
    "    alfabe = TÜRKÇE_ALFABE\n",
    "    # KODUNUZU BURAYA YAZIN VE \"pass\" İFADESİNİ SİLİN\n",
    "    tahmin=6\n",
    "    kelime=\" \"\n",
    "    tahmin_edilen_harfler=\" \"\n",
    "    print(f\"{len(gizli_kelime)} harfli bir kelime düşünüyorum. \")\n",
    "    while tahmin>0:\n",
    "        print(f\"{tahmin} tahmin hakkınız kaldı. \")\n",
    "        uygun_harfler=uygun_harfleri_al(tahmin_edilen_harfler)\n",
    "        print(f\"uygun harfler: {uygun_harfler}\")\n",
    "        tahmin_edilen_harfler+=input(\"Bir harf tahmin ediniz: \")\n",
    "        kelime=tahmin_edilen_kelimeyi_al(gizli_kelime, tahmin_edilen_harfler)\n",
    "        \n",
    "        print(f\"Güzel tahmin:{kelime}\") \n",
    "        tahmin-=1\n",
    "    else:\n",
    "        print(\"Tahmin hakkınız kalmadı\")\n",
    "    "
   ]
  },
  {
   "cell_type": "code",
   "execution_count": null,
   "metadata": {},
   "outputs": [
    {
     "name": "stdout",
     "output_type": "stream",
     "text": [
      "alçaltmalıyız\n",
      "İnsan Asmaca oyununa hoşgeldiniz!\n",
      "13 harfli bir kelime düşünüyorum. \n",
      "6 tahmin hakkınız kaldı. \n",
      "uygun harfler: abcçdefgğhıijklmnoöprsştuüvyz\n"
     ]
    }
   ],
   "source": [
    "gizli_kelime=kelime_seç(kelime_listesi)\n",
    "print(gizli_kelime)\n",
    "print(\"İnsan Asmaca oyununa hoşgeldiniz!\")\n",
    "\n",
    "ipuçlarıyla_insan_asmaca(gizli_kelime, alfabe=TÜRKÇE_ALFABE)\n"
   ]
  },
  {
   "cell_type": "code",
   "execution_count": null,
   "metadata": {},
   "outputs": [],
   "source": []
  }
 ],
 "metadata": {
  "kernelspec": {
   "display_name": "Python 3",
   "language": "python",
   "name": "python3"
  },
  "language_info": {
   "codemirror_mode": {
    "name": "ipython",
    "version": 3
   },
   "file_extension": ".py",
   "mimetype": "text/x-python",
   "name": "python",
   "nbconvert_exporter": "python",
   "pygments_lexer": "ipython3",
   "version": "3.6.5"
  }
 },
 "nbformat": 4,
 "nbformat_minor": 2
}

{
 "cells": [
  {
   "cell_type": "code",
   "execution_count": 1,
   "metadata": {},
   "outputs": [],
   "source": [
    "import random\n",
    "import string\n",
    "import pandas as pd"
   ]
  },
  {
   "cell_type": "code",
   "execution_count": 2,
   "metadata": {},
   "outputs": [],
   "source": [
    "KELIME_LISTESI_DOSYASI = \"tdk_sozcukler2.csv\"\n",
    "TÜRKÇE_ALFABE = 'abcçdefgğhıijklmnoöprsştuüvyz'\n",
    "\n",
    "def kelimeleri_yükle():\n",
    "    \"\"\"\n",
    "    Geçerli kelimelerin bir listesini döndürür. \n",
    "    Kelimeler, küçük harflerden oluşan dizelerdir.\n",
    "    cd\n",
    "    Sözcük listesinin boyutuna bağlı olarak, bu işlevin \n",
    "    tamamlanması biraz zaman alabilir.\n",
    "    \"\"\"\n",
    "    print(\"Dosyadan kelime listesi okunuyor...\")\n",
    "    # dosyanın okunması\n",
    "    dosya = pd.read_csv(\"tdk_sozcukler2.csv\")\n",
    "    # sözcüklerin küçük harfe çevrilmesi\n",
    "    dosya['SOZCUKLER'] = dosya['SOZCUKLER'].str.lower() \n",
    "    # wordlist: list of strings\n",
    "    kelime_listesi = dosya['SOZCUKLER'].tolist()\n",
    "    print(f\"{len(kelime_listesi)} kelimelik liste hazırlandı.\")\n",
    "    return kelime_listesi"
   ]
  },
  {
   "cell_type": "code",
   "execution_count": 3,
   "metadata": {},
   "outputs": [
    {
     "name": "stdout",
     "output_type": "stream",
     "text": [
      "Dosyadan kelime listesi okunuyor...\n",
      "213358 kelimelik liste hazırlandı.\n"
     ]
    }
   ],
   "source": [
    "kelime_listesi = kelimeleri_yükle()"
   ]
  },
  {
   "cell_type": "code",
   "execution_count": 4,
   "metadata": {},
   "outputs": [],
   "source": [
    "def kelime_seç(kelime_listesi):\n",
    "    \"\"\"\n",
    "    kelime_listesi (liste): kelimelerin listesi (dize)\n",
    "    \n",
    "    Kelime listesinde rastgele bir keliem döndürür.\n",
    "    \"\"\"\n",
    "    return random.choice(kelime_listesi)"
   ]
  },
  {
   "cell_type": "code",
   "execution_count": null,
   "metadata": {},
   "outputs": [],
   "source": [
    "def kelime_tahmin_edildi_mi(gizli_kelime, tahmin_edilen_harfler):\n",
    "    '''\n",
    "    gizli_kelime: dize, kullanıcının tahmin ettiği kelime; \n",
    "        tüm harflerin küçük olduğunu varsayar\n",
    "    tahmin_edilen_harfler: şimdiye kadar tahmin edilen harflerin listesi; \n",
    "        tüm harflerin küçük olduğunu varsayar\n",
    "    döndürdüğü: boolean, gizli_kelime'nin tüm harfleri tahmin_edilen_harfler içindeyse True; \n",
    "        aksi takdirde False\n",
    "    '''\n",
    "    # KODUNUZU BURAYA YAZIN VE \"pass\" İFADESİNİ SİLİN\n",
    "    gizli_kelime=kelime_seç(kelime_listesi)\n",
    "    "
   ]
  }
 ],
 "metadata": {
  "kernelspec": {
   "display_name": "Python 3",
   "language": "python",
   "name": "python3"
  },
  "language_info": {
   "codemirror_mode": {
    "name": "ipython",
    "version": 3
   },
   "file_extension": ".py",
   "mimetype": "text/x-python",
   "name": "python",
   "nbconvert_exporter": "python",
   "pygments_lexer": "ipython3",
   "version": "3.6.5"
  }
 },
 "nbformat": 4,
 "nbformat_minor": 2
}

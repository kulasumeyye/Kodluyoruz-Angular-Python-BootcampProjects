{
 "cells": [
  {
   "cell_type": "markdown",
   "metadata": {},
   "source": [
    "# Bölüm A"
   ]
  },
  {
   "cell_type": "markdown",
   "metadata": {},
   "source": [
    "Bu alıştırma için arkadaşlarımızın doğum günlerinin ne zaman olduğunu takip edeceğiz ve bu bilgileri isimlerine göre bulabileceğiz. İsim ve doğum günlerinden oluşan bir sözlük (dosyası) oluşturalım. Programımızı çalıştırdığınızda, kullanıcıdan bir isim girmesini ve o kişinin doğum gününü kendisine bildirmesini istemelidir. Etkileşim şunun gibi görünmelidir:\n",
    "\n",
    "```python\n",
    ">>> Doğum günü sözlüğüne hoş geldiniz. Bu kişilerin doğum günlerini biliyoruz:\n",
    "Kemal Sunal\n",
    "Adile Naşit\n",
    "Münir Özkul\n",
    "Türkan Şoray\n",
    ">>> Hangisinin doğum gününü öğrenmek istersin?\n",
    "Türkan Şoray\n",
    ">>> Türkan Şoray'ın doğum günü 28/07/1945.\n",
    "```"
   ]
  },
  {
   "cell_type": "markdown",
   "metadata": {},
   "source": [
    "# Çözüm"
   ]
  },
  {
   "cell_type": "code",
   "execution_count": 1,
   "metadata": {},
   "outputs": [
    {
     "name": "stdout",
     "output_type": "stream",
     "text": [
      "***** Doğum günü sözlüğüne hoş geldiniz. Bu kişilerin doğum günlerini biliyoruz:\n",
      "Sümeyye Kula\n",
      "Abdulsamet Kula\n",
      "Mehmet Ali Kula\n",
      "Hangisinin doğum gününü öğrenmek istersiniz?(Lütfen isimleri listedeki gibi yazınız): Mehmet Ali Kula\n",
      "Mehmet Ali Kula'nın doğum günü 20.01.2000\n"
     ]
    }
   ],
   "source": [
    "sozluk={\n",
    "    \"Sümeyye Kula\":\"04.06.1997\",\n",
    "    \"Abdulsamet Kula\":\"16.02.2005\",\n",
    "    \"Mehmet Ali Kula\" :\"20.01.2000\"\n",
    "}\n",
    "print(\"*\"*5,\"Doğum günü sözlüğüne hoş geldiniz. Bu kişilerin doğum günlerini biliyoruz:\")\n",
    "for e in sozluk:\n",
    "    print(e)\n",
    "secim=input(\"Hangisinin doğum gününü öğrenmek istersiniz?(Lütfen isimleri listedeki gibi yazınız): \")\n",
    "print(secim+\"'nın doğum günü \" + sozluk[secim])"
   ]
  },
  {
   "cell_type": "markdown",
   "metadata": {},
   "source": [
    "# Bölüm B"
   ]
  },
  {
   "cell_type": "markdown",
   "metadata": {},
   "source": [
    "Bir Pisagor üçlüsü, üç doğal sayı kümesidir, $a <b <c$, için,\n",
    "\n",
    "$$a^{2}+b^{2}=c^{2}$$\n",
    "\n",
    "Örneğin, $3^{2}+4^{2} = 9+16 = 5^{2}$\n",
    "\n",
    "Toplamı $a + b + c = 1000$ olan tam olarak bir Pisagor üçlüsü vardır.\n",
    "\n",
    "$abc$ çarpımını bulalım."
   ]
  },
  {
   "cell_type": "markdown",
   "metadata": {},
   "source": [
    "# Çözüm"
   ]
  },
  {
   "cell_type": "code",
   "execution_count": null,
   "metadata": {},
   "outputs": [],
   "source": [
    "for a in range(1,1000):\n",
    "\n",
    "        for b in range(a+1,1000):\n",
    "            c=1000-a-b\n",
    "\n",
    "            if(a**2+b**2==c**2):\n",
    "                print(f\"Değerler== > a = {a} , b = {b} , c = {c}\")\n",
    "                print(\"Çarpımları: \",a*b*c)\n",
    "                break"
   ]
  }
 ],
 "metadata": {
  "kernelspec": {
   "display_name": "Python 3",
   "language": "python",
   "name": "python3"
  },
  "language_info": {
   "codemirror_mode": {
    "name": "ipython",
    "version": 3
   },
   "file_extension": ".py",
   "mimetype": "text/x-python",
   "name": "python",
   "nbconvert_exporter": "python",
   "pygments_lexer": "ipython3",
   "version": "3.6.5"
  }
 },
 "nbformat": 4,
 "nbformat_minor": 4
}

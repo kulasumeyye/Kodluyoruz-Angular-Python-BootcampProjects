{
 "cells": [
  {
   "cell_type": "markdown",
   "metadata": {},
   "source": [
    "# Bölüm A"
   ]
  },
  {
   "cell_type": "markdown",
   "metadata": {},
   "source": [
    "İki oyunculu bir Taş-Kağıt-Makas oyunu yapalım.\n",
    "\n",
    "**İpucu:** \n",
    "\n",
    "Oyuncudan oyunlarını isteyip (`input()` kullanarak), karşılaştıralım, kazananı tebrik eden bir mesaj yazdıralım ve oyuncuların yeni bir oyuna başlamak isteyip istemediğini soralım)"
   ]
  },
  {
   "cell_type": "markdown",
   "metadata": {},
   "source": [
    "# Çözüm"
   ]
  },
  {
   "cell_type": "code",
   "execution_count": 1,
   "metadata": {},
   "outputs": [
    {
     "name": "stdout",
     "output_type": "stream",
     "text": [
      "**************************************************\n",
      "1. oyuncu seçim (Taş/Kağıt/Makas) : makas\n",
      "2. oyuncu seçim (Taş/Kağıt/Makas) : taş\n",
      "Tebrikler 2. oyuncu oyunu kazandınız!\n",
      "Tekrar oynamak istermisiniz?(h-hayır/e-evet)e\n",
      "1. oyuncu seçim (Taş/Kağıt/Makas) : kağıt\n",
      "2. oyuncu seçim (Taş/Kağıt/Makas) : makas\n",
      "Tebrikler 2. oyuncu oyunu kazandınız!\n",
      "Tekrar oynamak istermisiniz?(h-hayır/e-evet)h\n",
      "Oyun bitti... \n",
      "**************************************************\n"
     ]
    }
   ],
   "source": [
    "print(\"*\"*50)\n",
    "while True:\n",
    "    oyuncu1=input(\"1. oyuncu seçim (Taş/Kağıt/Makas) : \")\n",
    "    oyuncu2=input(\"2. oyuncu seçim (Taş/Kağıt/Makas) : \")\n",
    "    if oyuncu1==oyuncu2:\n",
    "        print(\"Berabere...\")\n",
    "    elif oyuncu1==\"taş\" and oyuncu2==\"kağıt\":\n",
    "        print(\"Tebrikler 1. oyuncu oyunu kazandınız!\")\n",
    "    elif oyuncu1==\"kağıt\" and oyuncu2==\"taş\":\n",
    "        print(\"Tebrikler 2. oyuncu oyunu kazandınız!\")\n",
    "    elif oyuncu1==\"kağıt\" and oyuncu2==\"makas\":\n",
    "        print(\"Tebrikler 2. oyuncu oyunu kazandınız!\")\n",
    "    elif oyuncu1==\"taş\" and oyuncu2==\"makas\":\n",
    "        print(\"Tebrikler 1. oyuncu oyunu kazandınız!\")\n",
    "    elif oyuncu1==\"makas\" and oyuncu2==\"kağıt\":\n",
    "        print(\"Tebrikler 1. oyuncu oyunu kazandınız!\")\n",
    "    elif oyuncu1==\"makas\" and oyuncu2==\"taş\":\n",
    "        print(\"Tebrikler 2. oyuncu oyunu kazandınız!\")\n",
    "    secim=input(\"Tekrar oynamak istermisiniz?(h-hayır/e-evet)\")\n",
    "    if (secim==\"h\"):\n",
    "        break;\n",
    "    \n",
    "print(\"Oyun bitti... \")\n",
    "print(\"*\"*50)\n",
    "    "
   ]
  },
  {
   "cell_type": "markdown",
   "metadata": {},
   "source": [
    "# Bölüm B"
   ]
  },
  {
   "cell_type": "markdown",
   "metadata": {},
   "source": [
    "Diyelim ki bize bir değişkene kaydedilmiş bir liste vermiş olsunlar: `a = [1, 4, 9, 16, 25, 36, 49, 64, 81, 100]`. Bu listeyi alan ve içinde bu listenin yalnızca çift öğelerini içeren yeni bir liste oluşturan bir Python satırı yazın (ne kadar az satırda olursa o kadar iyidir :) )."
   ]
  },
  {
   "cell_type": "markdown",
   "metadata": {},
   "source": [
    "# Çözüm"
   ]
  },
  {
   "cell_type": "code",
   "execution_count": null,
   "metadata": {},
   "outputs": [],
   "source": [
    "liste=[45,89,124,69,78,23,96,85,74,25,88,77,52,98,36,73,126,896,587]\n",
    "liste_cift=[]\n",
    "i=0\n",
    "for e in liste:\n",
    "    if (e%2==0):\n",
    "        liste_cift.append(liste[i])\n",
    "    i+=1\n",
    "print(liste_cift)"
   ]
  }
 ],
 "metadata": {
  "kernelspec": {
   "display_name": "Python 3",
   "language": "python",
   "name": "python3"
  },
  "language_info": {
   "codemirror_mode": {
    "name": "ipython",
    "version": 3
   },
   "file_extension": ".py",
   "mimetype": "text/x-python",
   "name": "python",
   "nbconvert_exporter": "python",
   "pygments_lexer": "ipython3",
   "version": "3.6.5"
  }
 },
 "nbformat": 4,
 "nbformat_minor": 4
}
